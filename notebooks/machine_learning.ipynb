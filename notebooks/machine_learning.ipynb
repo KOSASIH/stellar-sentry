import pandas as pd
import numpy as np
from sklearn.ensemble import RandomForestClassifier
from sklearn.model_selection import train_test_split

# Load processed data
data = pd.read_csv('data/processed_data.csv')

# Split data into training and testing sets
X_train, X_test, y_train, y_test = train_test_split(data.drop('target', axis=1), data['target'], test_size=0.2, random_state=42)

# Train random forest classifier
rf = RandomForestClassifier(n_estimators=100, random_state=42)
rf.fit(X_train, y_train)

# Evaluate model performance
accuracy = rf.score(X_test, y_test)
print(f'Model accuracy: {accuracy:.3f}')
